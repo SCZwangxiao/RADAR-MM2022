{
 "cells": [
  {
   "cell_type": "code",
   "execution_count": 35,
   "id": "35712364-99b1-41f0-8b42-daa526e3f4dc",
   "metadata": {},
   "outputs": [],
   "source": [
    "import os\n",
    "import os.path as osp\n",
    "import sys\n",
    "sys.path.append('/home/wangxiao13/annotation/ilearnmm')\n",
    "import json\n",
    "import pickle\n",
    "from tqdm import tqdm\n",
    "\n",
    "import numpy as np\n",
    "from scipy.special import kl_div\n",
    "import pandas as pd\n",
    "import matplotlib.pyplot as plt\n",
    "\n",
    "from multimodal.core.evaluation import mmit_mean_average_precision, top_k_recall, top_k_precision, mean_average_precision\n",
    "from multimodal.core.evaluation import top_k_accuracy, mean_class_accuracy, confusion_matrix"
   ]
  },
  {
   "cell_type": "code",
   "execution_count": 2,
   "id": "7d6a23cf-1965-4d21-9bab-d1f250ebc8b5",
   "metadata": {},
   "outputs": [],
   "source": [
    "def sigmoid(x):\n",
    "    return 1/(1+np.exp(-x))"
   ]
  },
  {
   "cell_type": "code",
   "execution_count": 41,
   "metadata": {},
   "outputs": [],
   "source": [
    "def class_accuracy(scores, labels):\n",
    "    \"\"\"Calculate mean class accuracy.\n",
    "\n",
    "    Args:\n",
    "        scores (list[np.ndarray]): Prediction scores for each class.\n",
    "        labels (list[int]): Ground truth labels.\n",
    "\n",
    "    Returns:\n",
    "        np.ndarray: Mean class accuracy.\n",
    "    \"\"\"\n",
    "    pred = np.argmax(scores, axis=1)\n",
    "    cf_mat = confusion_matrix(pred, labels).astype(float)\n",
    "\n",
    "    cls_cnt = cf_mat.sum(axis=1) # [K]\n",
    "    cls_hit = np.diag(cf_mat) # [K]\n",
    "\n",
    "    class_acc = [hit / cnt if cnt else 0.0 for cnt, hit in zip(cls_cnt, cls_hit)]\n",
    "\n",
    "    return cf_mat, class_acc"
   ]
  },
  {
   "cell_type": "code",
   "execution_count": 14,
   "id": "dfcd243d-d94e-4883-b2df-ef49951bcfae",
   "metadata": {},
   "outputs": [],
   "source": [
    "root_path = '/home/wangxiao13/annotation'\n",
    "test_label_path = osp.join(root_path, 'data/hetu600/hetu600_text_test_list.txt')\n",
    "label_map_path =  osp.join(root_path, 'data/hetu600/label_map_hetu600.txt')\n",
    "result_path = osp.join(root_path, 'ilearntext2/work_dirs/bert_hetu600/test_results.json')"
   ]
  },
  {
   "cell_type": "markdown",
   "id": "39cad00c-0300-4295-b44f-730dec85a5d8",
   "metadata": {},
   "source": [
    "# Load labels"
   ]
  },
  {
   "cell_type": "code",
   "execution_count": 8,
   "id": "536436a0-870a-4f0d-a250-2c4a604517dc",
   "metadata": {},
   "outputs": [],
   "source": [
    "idx2cat = {}\n",
    "cat2idx = {}\n",
    "with open(label_map_path, 'r') as F:\n",
    "    lines = F.readlines()\n",
    "for line in lines:\n",
    "    cat = line.strip()\n",
    "    idx = len(idx2cat)\n",
    "    idx2cat[idx] = cat\n",
    "    cat2idx[cat] = idx\n",
    "# No dupliacted category name\n",
    "assert len(idx2cat) == len(cat2idx) "
   ]
  },
  {
   "cell_type": "code",
   "execution_count": 66,
   "id": "79053655-2e04-487c-83af-49ddb3692e0f",
   "metadata": {},
   "outputs": [],
   "source": [
    "def calculate_hit_at(result, gt_labels):\n",
    "    assert len(result) == len(gt_labels)\n",
    "    pd_hit_at = []\n",
    "    for res, label_idx in tqdm(zip(result, gt_labels)):\n",
    "        topk_idxs = np.argsort(res)[::-1]\n",
    "        gt_label_rank = np.where(topk_idxs == label_idx)[0].item()\n",
    "        pd_hit_at.append(gt_label_rank)\n",
    "    return pd_hit_at"
   ]
  },
  {
   "cell_type": "markdown",
   "id": "4cf7abe5-6f1a-4f62-ab21-337fc89c15fe",
   "metadata": {},
   "source": [
    "# Load annotation"
   ]
  },
  {
   "cell_type": "code",
   "execution_count": 78,
   "id": "b0b664e4-b459-4fa3-a181-30fb9a6a8588",
   "metadata": {},
   "outputs": [
    {
     "output_type": "stream",
     "name": "stderr",
     "text": [
      "100%|██████████| 66036/66036 [00:00<00:00, 557770.85it/s]\n"
     ]
    }
   ],
   "source": [
    "pd_pids = []\n",
    "pd_sents = []\n",
    "pd_labels = []\n",
    "pd_hit_at = []\n",
    "\n",
    "with open(test_label_path, 'r') as F:\n",
    "    lines = F.readlines()\n",
    "\n",
    "gt_labels = []\n",
    "for line in tqdm(lines):\n",
    "    pid, sent, label_idx = line.strip().split('\\t')\n",
    "    pid = int(pid)\n",
    "    pd_pids.append(pid)\n",
    "    pd_sents.append(sent)\n",
    "    label_idx = int(label_idx)\n",
    "    label_name = idx2cat[label_idx]\n",
    "    pd_labels.append(label_name)\n",
    "    gt_labels.append(label_idx)\n",
    "gt_labels = np.array(gt_labels)"
   ]
  },
  {
   "cell_type": "markdown",
   "id": "9c189b15-874c-4bb4-8499-9b2536e32782",
   "metadata": {},
   "source": [
    "# Load results"
   ]
  },
  {
   "cell_type": "code",
   "execution_count": 60,
   "id": "2f384ca6-3184-4078-972c-6d50c036d280",
   "metadata": {},
   "outputs": [],
   "source": [
    "with open(result_path, 'r') as F:\n",
    "    result = json.load(F)\n",
    "result = np.array(result)\n",
    "if len(np.where(result<0)[0]) or len(np.where(result>1)[0]):\n",
    "    # got logits\n",
    "    result = sigmoid(result)"
   ]
  },
  {
   "cell_type": "code",
   "execution_count": 85,
   "metadata": {},
   "outputs": [
    {
     "output_type": "stream",
     "name": "stderr",
     "text": [
      "66036it [00:02, 26655.73it/s]\n"
     ]
    }
   ],
   "source": [
    "pd_hit_at = calculate_hit_at(result, gt_labels)"
   ]
  },
  {
   "cell_type": "markdown",
   "id": "ce1918a6-ca28-4bfe-8594-9f78967f4383",
   "metadata": {},
   "source": [
    "# Analysis"
   ]
  },
  {
   "cell_type": "code",
   "execution_count": 87,
   "metadata": {},
   "outputs": [],
   "source": [
    "stat = pd.DataFrame({\n",
    "        'pid': pd_pids,\n",
    "        'title': pd_sents,\n",
    "        'category_name': pd_labels,\n",
    "        'hit@': pd_hit_at})"
   ]
  },
  {
   "cell_type": "code",
   "execution_count": 32,
   "id": "dab07de9-2d4a-402a-b3cb-eecdd18fc61f",
   "metadata": {},
   "outputs": [
    {
     "output_type": "stream",
     "name": "stdout",
     "text": [
      "model:\nmean class accuracy: 0.72\nacc@1 0.74, acc@2 0.80, acc@3 0.82, acc@4 0.84, acc@5 0.85\n"
     ]
    }
   ],
   "source": [
    "mCAcc = mean_class_accuracy(result, gt_labels)\n",
    "accuracy = top_k_accuracy(result, gt_labels, topk=(1,2,3,4,5))\n",
    "print('model:')\n",
    "print('mean class accuracy: %.2f' % mCAcc)\n",
    "print('acc@1 %.2f, acc@2 %.2f, acc@3 %.2f, acc@4 %.2f, acc@5 %.2f' % tuple(accuracy))"
   ]
  },
  {
   "cell_type": "code",
   "execution_count": 42,
   "id": "8f646e3d-77c1-4b34-a48b-7700489260b3",
   "metadata": {},
   "outputs": [],
   "source": [
    "confusion_matrix, class_acc = class_accuracy(result, gt_labels)\n",
    "cls_cnt = confusion_matrix.sum(axis=1)"
   ]
  },
  {
   "cell_type": "code",
   "execution_count": 43,
   "id": "2b67c2a1-1ece-48d2-bf7e-05d171b42440",
   "metadata": {},
   "outputs": [
    {
     "output_type": "stream",
     "name": "stdout",
     "text": [
      "竞技体育(13) acc 0.00\n影视综艺(17) acc 0.06\n丧系负能量(16) acc 0.06\n宠物医美(31) acc 0.06\n动作角色扮演游戏（ARPG）(85) acc 0.09\n大型多人在线游戏（MMO）(86) acc 0.10\n球类运动(101) acc 0.11\n音乐游戏(104) acc 0.12\n人物摄影(83) acc 0.12\n宅物潮玩(62) acc 0.13\n乐器(82) acc 0.15\n枪战射击(68) acc 0.15\n搭配展示(46) acc 0.15\n美食日常(64) acc 0.17\n休闲益智(88) acc 0.18\n埙(16) acc 0.19\n极限运动(106) acc 0.19\n室内演唱(84) acc 0.20\n宠物(74) acc 0.20\n即兴舞蹈(132) acc 0.21\n汽车买卖(99) acc 0.22\n手艺(54) acc 0.22\n网红(122) acc 0.23\n绘画(104) acc 0.23\n竞速游戏(95) acc 0.23\n山水游(138) acc 0.23\n玩具短剧(68) acc 0.24\n宠物鸟(68) acc 0.26\n城市游(122) acc 0.27\n念珠制作(18) acc 0.28\n4-12岁萌娃(53) acc 0.28\n冒险游戏(108) acc 0.29\n猫(72) acc 0.29\n晒娃(126) acc 0.30\n体育游戏(99) acc 0.30\n对战卡牌类(108) acc 0.31\n多人在线战术竞技游戏（MOBA）(111) acc 0.31\n动画(81) acc 0.31\n漫画(100) acc 0.32\n育儿(59) acc 0.32\n炫技(137) acc 0.33\n亲子周边(108) acc 0.34\n野生动物(70) acc 0.34\n表演(96) acc 0.34\n短剧(127) acc 0.35\n健身训练(140) acc 0.35\n烹饪(99) acc 0.35\n魔幻短剧(76) acc 0.36\n景物摄影(137) acc 0.36\n二次元装扮(136) acc 0.36\n阅读(38) acc 0.37\n继承法(27) acc 0.37\n说车评车(121) acc 0.37\n动漫(109) acc 0.38\n搞笑段子(145) acc 0.39\n汽车日常(90) acc 0.39\n恋爱短剧(59) acc 0.39\n试驾体验(140) acc 0.39\n恶作剧(129) acc 0.40\n运动教学(115) acc 0.40\n跆拳道(130) acc 0.40\n绝技(112) acc 0.40\n都市短剧(144) acc 0.40\n宠物鼠(109) acc 0.40\n美食开箱(79) acc 0.41\n汽车评测(116) acc 0.41\n高新数码开箱(64) acc 0.41\n名人(135) acc 0.41\n种植业(105) acc 0.41\n吃鸡游戏(107) acc 0.41\n写真(154) acc 0.42\n家居家饰(36) acc 0.42\n科技数码产品(124) acc 0.42\n田间演唱(93) acc 0.42\n亲子开箱(52) acc 0.42\n养护维修(115) acc 0.43\n棋牌游戏(103) acc 0.43\n炫技漂移(122) acc 0.43\n狗(85) acc 0.44\n社会资讯(130) acc 0.44\n玩泥(130) acc 0.44\n看病治病(102) acc 0.44\n后期处理(138) acc 0.44\n声优(54) acc 0.44\n手机壳diy(112) acc 0.45\n塔罗牌(29) acc 0.45\n街拍(140) acc 0.45\n摆牌(62) acc 0.45\n翼装飞行(11) acc 0.45\n友情短剧(11) acc 0.45\n水上运动(123) acc 0.46\n沿海游(138) acc 0.46\n王牌战争：文明重启(127) acc 0.46\n保健养生(116) acc 0.46\ncosplay(151) acc 0.46\n境内游(99) acc 0.46\n美妆教学(148) acc 0.47\n回合(107) acc 0.48\n考拉(44) acc 0.48\n书法(132) acc 0.48\n触漫(103) acc 0.49\n基督教(78) acc 0.49\n搞笑街头采访(158) acc 0.49\n模仿(141) acc 0.49\n彩铅画(85) acc 0.49\n日常法律(135) acc 0.50\n律师资格(16) acc 0.50\n王者模拟战(106) acc 0.50\n游戏评测(90) acc 0.50\n旅游攻略(124) acc 0.50\n明星(123) acc 0.50\n汽车改装(185) acc 0.51\n自行车运动(116) acc 0.51\n游戏教学(98) acc 0.51\n早教幼教(47) acc 0.51\n街头演唱(90) acc 0.51\n孕产(149) acc 0.52\n综艺(158) acc 0.52\n二创音乐(48) acc 0.52\n少儿动画(142) acc 0.52\n软笔(142) acc 0.52\n小故事(21) acc 0.52\n武术(150) acc 0.53\n牲畜(131) acc 0.53\n烹饪教学(125) acc 0.53\n天主教(51) acc 0.53\n唱歌(115) acc 0.53\n乡村短剧(122) acc 0.53\n城市风景(163) acc 0.53\n弹弓(101) acc 0.53\n编织(97) acc 0.54\n鸟(26) acc 0.54\n跑酷(138) acc 0.54\n英雄联盟(101) acc 0.54\n穿搭开箱(95) acc 0.55\n健康教学(73) acc 0.55\n转打火机(100) acc 0.55\n用车知识(121) acc 0.55\n健身(119) acc 0.55\n韩舞(142) acc 0.56\n民族舞(138) acc 0.56\n锻造(102) acc 0.56\n青少年动画(161) acc 0.56\n古风短剧(91) acc 0.56\n戏曲(123) acc 0.56\n养殖业(98) acc 0.56\n浣熊(57) acc 0.56\n语言教育(78) acc 0.56\n小吃(111) acc 0.57\n部落冲突：皇室战争(124) acc 0.57\n音乐现场(61) acc 0.57\n穿搭教学(141) acc 0.57\n硬笔(144) acc 0.58\n房产售卖(19) acc 0.58\n国防动态(36) acc 0.58\n食材(101) acc 0.58\n中国史(82) acc 0.59\n美食探店(143) acc 0.59\n穿搭探店(119) acc 0.59\n护理(105) acc 0.59\n前沿科技(120) acc 0.59\n人力资源(27) acc 0.59\n时尚穿搭(143) acc 0.59\n吉他(116) acc 0.59\n法制日常(47) acc 0.60\n饮食(62) acc 0.60\n育儿健康知识(127) acc 0.60\n手绘(158) acc 0.61\n卡牌角色扮演游戏（卡牌RPG）(130) acc 0.61\n亲情(141) acc 0.61\n校园短剧(100) acc 0.61\n新生儿(113) acc 0.61\n航拍摄影(149) acc 0.61\n佛教(142) acc 0.61\n古风舞蹈(146) acc 0.62\n雕刻(136) acc 0.62\n手工花(105) acc 0.62\n美发(132) acc 0.62\n绝地求生(132) acc 0.62\n汽车探店(80) acc 0.62\n美妆探店(94) acc 0.63\n口技(35) acc 0.63\n生活电器(27) acc 0.63\n理财(95) acc 0.63\n格斗(148) acc 0.64\n吃播(159) acc 0.64\n拳击(152) acc 0.64\n宠物鱼(128) acc 0.64\n自驾游(138) acc 0.64\n穿搭评测(136) acc 0.65\n汽车教学(117) acc 0.65\n美妆开箱(86) acc 0.65\n电脑软件(147) acc 0.65\n滑翔伞(61) acc 0.66\n手机(134) acc 0.66\n肉类(38) acc 0.66\n蛇(79) acc 0.66\n驾考交规(132) acc 0.66\n滴胶(141) acc 0.66\n沙盒游戏(136) acc 0.66\n钻石画(68) acc 0.66\n爱情(142) acc 0.66\n旅游探店(134) acc 0.66\n素描(137) acc 0.66\n街舞(140) acc 0.66\n杂技(108) acc 0.67\n亲子探店(24) acc 0.67\n工作法律(102) acc 0.67\n医美整形(96) acc 0.67\n武器装备(106) acc 0.67\n家庭短剧(128) acc 0.67\n盲盒盲袋(141) acc 0.67\n爬虫飞虫(99) acc 0.68\n健康探店(25) acc 0.68\n自制音乐(126) acc 0.68\n备孕(102) acc 0.69\n动植物与微生物(64) acc 0.69\n陌生人社交(80) acc 0.69\n潜水(125) acc 0.69\n婚姻法律(133) acc 0.69\n军事冲突(39) acc 0.69\n烹调(134) acc 0.69\n三农政策(121) acc 0.69\nk12(154) acc 0.69\n职业教育(141) acc 0.70\n搏击运动(138) acc 0.70\n攀岩(33) acc 0.70\n大提琴(96) acc 0.70\n蹦极(153) acc 0.70\n数据分析(20) acc 0.70\n拉丁舞(111) acc 0.70\n怀孕(139) acc 0.71\n护肤(136) acc 0.71\n驯兽表演(89) acc 0.71\n我的世界(124) acc 0.71\n历史事件(83) acc 0.71\n花艺(111) acc 0.71\n产后抑郁(105) acc 0.71\n魔术(134) acc 0.72\n体检(113) acc 0.72\n养猪(78) acc 0.72\n手势舞(146) acc 0.72\n二人转(111) acc 0.72\n猴子(122) acc 0.72\n摄影教学(151) acc 0.72\n田径(148) acc 0.72\n健身操(123) acc 0.72\n陶艺(145) acc 0.72\n水上飞人(51) acc 0.73\n曲棍球(11) acc 0.73\n舞蹈教学(144) acc 0.73\n美甲(133) acc 0.73\n软陶(149) acc 0.73\n艺术设计(117) acc 0.74\n简笔画(151) acc 0.74\n面相手相(102) acc 0.74\n时政资讯(155) acc 0.74\n电子竞技(87) acc 0.74\n保险(122) acc 0.74\n爱国(142) acc 0.74\n传统文化(54) acc 0.74\n服饰(139) acc 0.74\n减肥(121) acc 0.74\n街头运动(125) acc 0.74\n户外越野(129) acc 0.74\n宠物医生(114) acc 0.75\n果蔬(114) acc 0.75\n生肖(122) acc 0.75\n轮滑(130) acc 0.75\n刺绣(107) acc 0.75\n科技公司(147) acc 0.75\n舞龙舞狮(124) acc 0.75\n游泳(124) acc 0.75\n体操(52) acc 0.75\n法制事件(8) acc 0.75\n广场舞(133) acc 0.75\n外国史(101) acc 0.75\n二次元开箱(81) acc 0.75\n自然地理(82) acc 0.76\n产检(91) acc 0.76\n伊斯兰教(54) acc 0.76\nQQ飞车(150) acc 0.76\n教育周边(100) acc 0.76\n菜肴(146) acc 0.76\n仿妆(109) acc 0.76\n安全教育(80) acc 0.76\n图书(80) acc 0.76\n香肠派对(118) acc 0.76\n彩虹圈(38) acc 0.76\n瑜伽(157) acc 0.76\n高新数码教学(85) acc 0.76\n正能量短剧(128) acc 0.77\n第五人格(141) acc 0.77\n荒野行动(120) acc 0.77\n和平精英(134) acc 0.77\n彩妆(153) acc 0.77\n音乐教学(105) acc 0.77\n住宿(129) acc 0.78\n相机(147) acc 0.78\n月子期(72) acc 0.78\n虚拟人物短剧(105) acc 0.78\n养生食疗与饮食禁忌(78) acc 0.78\n扭秧歌(92) acc 0.78\n鸡汤励志(143) acc 0.78\n兔子(120) acc 0.78\n民间俗语(97) acc 0.78\n影视剧(139) acc 0.78\n烘焙(70) acc 0.79\n高甜短剧(70) acc 0.79\n国画(122) acc 0.79\n文物与博物馆(47) acc 0.79\n穿越火线(141) acc 0.79\n新车(118) acc 0.79\n汽车试验(90) acc 0.79\n合奏(86) acc 0.79\n跳伞(130) acc 0.79\n台球(145) acc 0.79\n日用品(58) acc 0.79\n辅助生殖(63) acc 0.79\n学业教育(127) acc 0.80\n烧烤(137) acc 0.80\n道教(103) acc 0.80\n皮影(89) acc 0.80\n小说(90) acc 0.80\n医师药师(30) acc 0.80\nT台走秀(126) acc 0.80\n海鲜(106) acc 0.80\n平衡车(71) acc 0.80\n火锅(122) acc 0.80\n职场语录(133) acc 0.80\n创业(156) acc 0.81\n老鼠(104) acc 0.81\n睡衣(151) acc 0.81\n跑跑卡丁车(105) acc 0.81\n产品与运营(121) acc 0.81\n建筑建造(74) acc 0.81\n高新数码评测(86) acc 0.81\n收养法(54) acc 0.81\n篮球(135) acc 0.81\n房产(146) acc 0.82\n厨师刀工(87) acc 0.82\n修车(120) acc 0.82\n超级马里奥(115) acc 0.82\n暖新闻(72) acc 0.82\n儿歌(128) acc 0.82\n健康周边(39) acc 0.82\n柔力球(67) acc 0.82\n方言(95) acc 0.82\n大学教育(84) acc 0.82\n田园生活(96) acc 0.82\n消费法(17) acc 0.82\n中国鼓(34) acc 0.82\n科技周边(142) acc 0.82\n歌剧交响乐(97) acc 0.82\n征婚交友(132) acc 0.83\n海外游(162) acc 0.83\n童装(168) acc 0.83\n国际时政(122) acc 0.83\n美妆评测(117) acc 0.83\n易经(41) acc 0.83\n王牌战士(123) acc 0.83\n内衣(112) acc 0.83\n鞋靴(130) acc 0.83\npenbeat(36) acc 0.83\n军训(109) acc 0.83\n二次元酷图(141) acc 0.84\n0-3岁萌宝(129) acc 0.84\n首饰制作(123) acc 0.84\n男装(148) acc 0.84\n魔法表情(130) acc 0.84\n乌龟(112) acc 0.84\n女装(106) acc 0.84\n转笔(133) acc 0.84\n家私家具(133) acc 0.84\n熊猫(133) acc 0.84\nNBA(165) acc 0.84\n动物训练矫正(115) acc 0.84\n幼儿教育(116) acc 0.84\n手机摄影(78) acc 0.85\n基金(85) acc 0.85\n社会事件(157) acc 0.85\n射击(59) acc 0.85\n广播剧(105) acc 0.85\n美文朗读(125) acc 0.85\n养牛羊(40) acc 0.85\n刺猬(107) acc 0.85\n心理咨询(47) acc 0.85\n蜥蜴(47) acc 0.85\n运动探店(108) acc 0.85\n养鸡鸭鹅(88) acc 0.85\n肿瘤癌症(82) acc 0.85\n签名设计(123) acc 0.85\n魔方(117) acc 0.85\n平衡堆砌(131) acc 0.85\n摔跤(97) acc 0.86\n笑话(104) acc 0.86\n手碟(35) acc 0.86\n休闲运动(14) acc 0.86\n睡眠(77) acc 0.86\n悠悠球(147) acc 0.86\n芦笙(21) acc 0.86\n电脑(147) acc 0.86\n面点(141) acc 0.86\n剪纸(141) acc 0.86\n英语(134) acc 0.86\n动物收留(113) acc 0.86\n芭蕾舞(113) acc 0.86\n马头琴(92) acc 0.86\n实验发明(64) acc 0.86\n建筑材料(121) acc 0.86\n股市(137) acc 0.86\n折纸(145) acc 0.86\n手帐(131) acc 0.86\n油画(161) acc 0.86\n羊驼(103) acc 0.86\n单簧管(82) acc 0.87\n两性健康(127) acc 0.87\n羽毛球(128) acc 0.87\n长笛(98) acc 0.87\n明日之后(137) acc 0.87\n箱包(155) acc 0.87\n儿童健康(132) acc 0.87\n斗地主(140) acc 0.87\n商业经营(78) acc 0.87\n赛马马术(55) acc 0.87\n胎教(55) acc 0.87\n搞笑表情包(135) acc 0.87\n户外探险(143) acc 0.87\n滑雪(120) acc 0.88\n宠物美容(120) acc 0.88\n鱼(96) acc 0.88\n乒乓球(129) acc 0.88\n二手车(146) acc 0.88\n听书(41) acc 0.88\n教师教职(25) acc 0.88\n航空航天器(17) acc 0.88\n土地法(51) acc 0.88\n王者荣耀(145) acc 0.88\nlogo设计(145) acc 0.88\n占卜命运(112) acc 0.88\n信用卡(130) acc 0.88\n守望先锋(139) acc 0.88\n排球(140) acc 0.89\n元气骑士(132) acc 0.89\n加密货币(133) acc 0.89\n钢琴(133) acc 0.89\n星座(143) acc 0.89\n装饰摆件(136) acc 0.89\n商业法律(73) acc 0.89\n糖画(137) acc 0.89\n友情(176) acc 0.89\n普通话(130) acc 0.89\n汽车租赁(153) acc 0.90\n产后恢复(115) acc 0.90\n柔道(87) acc 0.90\n装修设计(155) acc 0.90\nlolita(166) acc 0.90\n种田(129) acc 0.90\n滑冰(139) acc 0.90\n滑水冲浪(30) acc 0.90\n财会金融(51) acc 0.90\n宅舞(92) acc 0.90\n德语(41) acc 0.90\n云顶之弈(144) acc 0.90\n经络按摩(124) acc 0.90\n采耳(145) acc 0.90\n脱口秀(126) acc 0.90\n常见疾病(147) acc 0.90\n手鼓(127) acc 0.91\n跳绳(127) acc 0.91\n橄榄球(117) acc 0.91\n逆水寒(96) acc 0.91\n计算机等级(161) acc 0.91\n击剑(43) acc 0.91\n考公务员(140) acc 0.91\n猫和老鼠(140) acc 0.91\n二次元配音(151) acc 0.91\n面塑(130) acc 0.91\n火影忍者(141) acc 0.91\n冰球(55) acc 0.91\n日语(144) acc 0.91\n帆板(122) acc 0.91\n建造工程(89) acc 0.91\n天文(101) acc 0.91\n军人生活(226) acc 0.91\n航海王：燃烧意志(147) acc 0.91\n心理测试(125) acc 0.91\n养车(125) acc 0.91\n网球(126) acc 0.91\n举重(115) acc 0.91\n泰语(81) acc 0.91\n骑行游(140) acc 0.91\n消费眼科(107) acc 0.92\n穿搭售卖(131) acc 0.92\n3D画(131) acc 0.92\n松鼠(143) acc 0.92\n考事业编(72) acc 0.92\n西班牙语(72) acc 0.92\n厨房好物(135) acc 0.92\n足球(148) acc 0.92\n家纺(125) acc 0.92\n服装设计(151) acc 0.92\n俄语(114) acc 0.92\n脱发(52) acc 0.92\n萨克斯(156) acc 0.92\n滑板(170) acc 0.92\n二胡(171) acc 0.92\n服装批发(146) acc 0.92\n生死狙击(160) acc 0.93\n迷你世界(161) acc 0.93\n企鹅(121) acc 0.93\n手球(54) acc 0.93\n农用机械(135) acc 0.93\n泥塑(122) acc 0.93\n龙舟(41) acc 0.93\n饮品(151) acc 0.93\n拇指琴(110) acc 0.93\n麻将(139) acc 0.93\n性能改装(139) acc 0.93\n植物大战僵尸(139) acc 0.93\n唢呐(153) acc 0.93\n汽车配件(112) acc 0.93\n零食(128) acc 0.93\n电吹管(129) acc 0.93\n健美(101) acc 0.93\n纹绣(104) acc 0.93\n逆战(134) acc 0.93\n洛克王国(150) acc 0.93\n笛子(137) acc 0.93\n美容美体(123) acc 0.93\n大话西游(142) acc 0.94\n外观改装(143) acc 0.94\n国内时政(64) acc 0.94\n射箭(96) acc 0.94\n樱花校园模拟器(147) acc 0.94\n天涯明月刀(117) acc 0.94\n象棋(134) acc 0.94\nQQ炫舞(153) acc 0.94\n迷你厨房(154) acc 0.94\n梦幻西游(156) acc 0.94\nDNF(139) acc 0.94\n年画(122) acc 0.94\n民间故事(157) acc 0.94\n天气资讯(140) acc 0.94\n编程与开发(105) acc 0.94\n小测试(143) acc 0.94\n汉服古风(143) acc 0.94\n甜品(162) acc 0.94\n贪吃蛇大作战(128) acc 0.95\n肚皮舞(129) acc 0.95\n创造与魔法(158) acc 0.95\n葫芦丝(130) acc 0.95\n明日方舟(139) acc 0.96\n韩语课(117) acc 0.96\n魔兽世界(143) acc 0.96\n高尔夫(148) acc 0.96\n古筝(150) acc 0.96\n荒野乱斗(150) acc 0.96\nJK与制服(152) acc 0.96\n搞笑配音(137) acc 0.96\n美食售卖(83) acc 0.96\n小品(139) acc 0.96\n平板电脑(142) acc 0.96\n球球大作战(143) acc 0.97\n手风琴(127) acc 0.97\n逃跑吧少年(131) acc 0.97\n堡垒之夜(164) acc 0.97\n诗词文学(132) acc 0.97\n休闲蹦床(141) acc 0.97\n汽车赛事(145) acc 0.97\n配饰(148) acc 0.97\n尤克里里(150) acc 0.97\nSky光·遇(153) acc 0.97\n方舟：生存进化(119) acc 0.97\n钢管舞(120) acc 0.97\n纹身(162) acc 0.98\n琵琶(122) acc 0.98\n架子鼓(127) acc 0.98\n口琴(130) acc 0.98\n小提琴(131) acc 0.98\n一人之下(135) acc 0.98\n摩登舞(46) acc 0.98\n决战平安京(154) acc 0.98\n相声(155) acc 0.98\n学业考试(105) acc 0.98\n高新数码售卖(53) acc 0.98\n崩坏3(164) acc 0.98\n法语(110) acc 0.98\n消消乐(142) acc 0.99\n沙画(129) acc 0.99\n美睫(131) acc 0.99\n炉石传说(140) acc 0.99\n拉车游(151) acc 0.99\n阴阳师(160) acc 0.99\n双簧管(9) acc 1.00\nCS:GO(147) acc 1.00\n棒垒球(8) acc 1.00\n橡皮章(95) acc 1.00\nVR和全息投影(20) acc 1.00\n车展资讯(150) acc 1.00\n"
     ]
    }
   ],
   "source": [
    "for idx in np.argsort(class_acc):\n",
    "    print('%s(%d) acc %.2f' % (idx2cat[idx], cls_cnt[idx], class_acc[idx]))"
   ]
  },
  {
   "cell_type": "code",
   "execution_count": 99,
   "id": "fa22eeb9-d259-45cb-bf46-bf3e42ff4f78",
   "metadata": {},
   "outputs": [
    {
     "output_type": "execute_result",
     "data": {
      "text/plain": [
       "               pid                                              title  \\\n",
       "3587   52174298154                      经历了那么多的事事非非，我终于明白了，原来人也会变的，哈哈   \n",
       "12029  52098576198                                              #面部护理   \n",
       "23242  52066188721  #掏耳屎解压  一听价格，你走了于是你到处找更便宜的！被人坑了，你又回来了！最近很火的话：任...   \n",
       "34486  52058171934                                               上班中！   \n",
       "34949  52241781892                                               #小小喵   \n",
       "38254  47215399882                                             真是吓人啊，   \n",
       "43317  52058337319                                       贫民窟探店，经费有限 #   \n",
       "45148  41850274589                             #感谢快手平台  #感谢推广小助手助我上热门   \n",
       "46900  52122662718                                              耳朵下雪了   \n",
       "49687  52224570737                                #偷拍成功  #忙忙碌碌  #记录生活   \n",
       "51330  32601485616                        #感谢官方大大给的每一次热门 #感谢推送小助手 #热门   \n",
       "51956  44834087794         #耳博匠专业采耳  小哥桃花运太旺犯愁了，说想换个城市生活！你说这气不气人～#桃花运   \n",
       "54706  52035721873  足疗的快乐应该都知道了，采耳这个项目不会还有人不知道吧？ #足疗养生 #探店创作者激励计划 #采耳   \n",
       "57130  52034018571                                        纯技术，非专业，勿模仿   \n",
       "\n",
       "      category_name  hit@  \n",
       "3587             采耳   252  \n",
       "12029            采耳    14  \n",
       "23242            采耳     2  \n",
       "34486            采耳    49  \n",
       "34949            采耳   232  \n",
       "38254            采耳   156  \n",
       "43317            采耳   140  \n",
       "45148            采耳   265  \n",
       "46900            采耳     2  \n",
       "49687            采耳    12  \n",
       "51330            采耳   465  \n",
       "51956            采耳     1  \n",
       "54706            采耳     5  \n",
       "57130            采耳    89  "
      ],
      "text/html": "<div>\n<style scoped>\n    .dataframe tbody tr th:only-of-type {\n        vertical-align: middle;\n    }\n\n    .dataframe tbody tr th {\n        vertical-align: top;\n    }\n\n    .dataframe thead th {\n        text-align: right;\n    }\n</style>\n<table border=\"1\" class=\"dataframe\">\n  <thead>\n    <tr style=\"text-align: right;\">\n      <th></th>\n      <th>pid</th>\n      <th>title</th>\n      <th>category_name</th>\n      <th>hit@</th>\n    </tr>\n  </thead>\n  <tbody>\n    <tr>\n      <th>3587</th>\n      <td>52174298154</td>\n      <td>经历了那么多的事事非非，我终于明白了，原来人也会变的，哈哈</td>\n      <td>采耳</td>\n      <td>252</td>\n    </tr>\n    <tr>\n      <th>12029</th>\n      <td>52098576198</td>\n      <td>#面部护理</td>\n      <td>采耳</td>\n      <td>14</td>\n    </tr>\n    <tr>\n      <th>23242</th>\n      <td>52066188721</td>\n      <td>#掏耳屎解压  一听价格，你走了于是你到处找更便宜的！被人坑了，你又回来了！最近很火的话：任...</td>\n      <td>采耳</td>\n      <td>2</td>\n    </tr>\n    <tr>\n      <th>34486</th>\n      <td>52058171934</td>\n      <td>上班中！</td>\n      <td>采耳</td>\n      <td>49</td>\n    </tr>\n    <tr>\n      <th>34949</th>\n      <td>52241781892</td>\n      <td>#小小喵</td>\n      <td>采耳</td>\n      <td>232</td>\n    </tr>\n    <tr>\n      <th>38254</th>\n      <td>47215399882</td>\n      <td>真是吓人啊，</td>\n      <td>采耳</td>\n      <td>156</td>\n    </tr>\n    <tr>\n      <th>43317</th>\n      <td>52058337319</td>\n      <td>贫民窟探店，经费有限 #</td>\n      <td>采耳</td>\n      <td>140</td>\n    </tr>\n    <tr>\n      <th>45148</th>\n      <td>41850274589</td>\n      <td>#感谢快手平台  #感谢推广小助手助我上热门</td>\n      <td>采耳</td>\n      <td>265</td>\n    </tr>\n    <tr>\n      <th>46900</th>\n      <td>52122662718</td>\n      <td>耳朵下雪了</td>\n      <td>采耳</td>\n      <td>2</td>\n    </tr>\n    <tr>\n      <th>49687</th>\n      <td>52224570737</td>\n      <td>#偷拍成功  #忙忙碌碌  #记录生活</td>\n      <td>采耳</td>\n      <td>12</td>\n    </tr>\n    <tr>\n      <th>51330</th>\n      <td>32601485616</td>\n      <td>#感谢官方大大给的每一次热门 #感谢推送小助手 #热门</td>\n      <td>采耳</td>\n      <td>465</td>\n    </tr>\n    <tr>\n      <th>51956</th>\n      <td>44834087794</td>\n      <td>#耳博匠专业采耳  小哥桃花运太旺犯愁了，说想换个城市生活！你说这气不气人～#桃花运</td>\n      <td>采耳</td>\n      <td>1</td>\n    </tr>\n    <tr>\n      <th>54706</th>\n      <td>52035721873</td>\n      <td>足疗的快乐应该都知道了，采耳这个项目不会还有人不知道吧？ #足疗养生 #探店创作者激励计划 #采耳</td>\n      <td>采耳</td>\n      <td>5</td>\n    </tr>\n    <tr>\n      <th>57130</th>\n      <td>52034018571</td>\n      <td>纯技术，非专业，勿模仿</td>\n      <td>采耳</td>\n      <td>89</td>\n    </tr>\n  </tbody>\n</table>\n</div>"
     },
     "metadata": {},
     "execution_count": 99
    }
   ],
   "source": [
    "stat[(stat['category_name']=='采耳') & (stat['hit@']>0)]"
   ]
  },
  {
   "cell_type": "code",
   "execution_count": null,
   "metadata": {},
   "outputs": [],
   "source": []
  }
 ],
 "metadata": {
  "kernelspec": {
   "display_name": "Python 3",
   "language": "python",
   "name": "python3"
  },
  "language_info": {
   "codemirror_mode": {
    "name": "ipython",
    "version": 3
   },
   "file_extension": ".py",
   "mimetype": "text/x-python",
   "name": "python",
   "nbconvert_exporter": "python",
   "pygments_lexer": "ipython3",
   "version": "3.7.9"
  }
 },
 "nbformat": 4,
 "nbformat_minor": 5
}